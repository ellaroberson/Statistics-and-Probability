{
  "nbformat": 4,
  "nbformat_minor": 0,
  "metadata": {
    "colab": {
      "provenance": [],
      "authorship_tag": "ABX9TyM6CyhvonPPUApD6JtWFOBb",
      "include_colab_link": true
    },
    "kernelspec": {
      "name": "python3",
      "display_name": "Python 3"
    },
    "language_info": {
      "name": "python"
    }
  },
  "cells": [
    {
      "cell_type": "markdown",
      "metadata": {
        "id": "view-in-github",
        "colab_type": "text"
      },
      "source": [
        "<a href=\"https://colab.research.google.com/github/ellaroberson/Statistics-and-Probability/blob/main/Ella_Lab_2.ipynb\" target=\"_parent\"><img src=\"https://colab.research.google.com/assets/colab-badge.svg\" alt=\"Open In Colab\"/></a>"
      ]
    },
    {
      "cell_type": "code",
      "execution_count": null,
      "metadata": {
        "id": "Wqpw_Yvrr_iP"
      },
      "outputs": [],
      "source": []
    },
    {
      "cell_type": "code",
      "execution_count": null,
      "metadata": {
        "id": "BTFQQIbezD1q"
      },
      "outputs": [],
      "source": [
        "import numpy as np #remember to always do this first\n",
        "import matplotlib.pyplot as plt"
      ]
    },
    {
      "cell_type": "code",
      "source": [
        "numbers= np.array([1,2,2,3,3,3,4,4,4,4])"
      ],
      "metadata": {
        "id": "McaWb21nzxU8"
      },
      "execution_count": null,
      "outputs": []
    },
    {
      "cell_type": "code",
      "source": [
        "plt.hist(numbers,100); #plotting a histogram (hist)"
      ],
      "metadata": {
        "colab": {
          "base_uri": "https://localhost:8080/",
          "height": 430
        },
        "outputId": "b44d28dc-e7b7-4aab-c307-3a3173848d37",
        "id": "n5q_SqxGzxU9"
      },
      "execution_count": null,
      "outputs": [
        {
          "output_type": "display_data",
          "data": {
            "text/plain": [
              "<Figure size 640x480 with 1 Axes>"
            ],
            "image/png": "[encoded data removed]"
          },
          "metadata": {}
        }
      ]
    },
    {
      "cell_type": "markdown",
      "source": [
        "# PRNG"
      ],
      "metadata": {
        "id": "gVz9NYlc1_qk"
      }
    },
    {
      "cell_type": "code",
      "source": [
        "x = 0.12345 #setting a variable"
      ],
      "metadata": {
        "id": "bw6esAMU3I6X"
      },
      "execution_count": null,
      "outputs": []
    },
    {
      "cell_type": "code",
      "source": [
        "x = x*3"
      ],
      "metadata": {
        "id": "E9tlQTsQ3L7-"
      },
      "execution_count": null,
      "outputs": []
    },
    {
      "cell_type": "code",
      "source": [
        "x % 1"
      ],
      "metadata": {
        "colab": {
          "base_uri": "https://localhost:8080/"
        },
        "id": "1HfpsnMT5q-D",
        "outputId": "49a31e2b-d833-4431-b7a2-cd81a6c0c046"
      },
      "execution_count": null,
      "outputs": [
        {
          "output_type": "execute_result",
          "data": {
            "text/plain": [
              "0.37035"
            ]
          },
          "metadata": {},
          "execution_count": 8
        }
      ]
    },
    {
      "cell_type": "code",
      "source": [],
      "metadata": {
        "id": "Af6pe7GH5vf8"
      },
      "execution_count": null,
      "outputs": []
    },
    {
      "cell_type": "code",
      "source": [],
      "metadata": {
        "id": "xtcuqIds5vrV"
      },
      "execution_count": null,
      "outputs": []
    },
    {
      "cell_type": "code",
      "source": [
        "current_point = 0.12345          # seed value\n",
        "points_to_save = np.zeros(50000,)  # initialize an array of zeros\n",
        "\n",
        "for i in range(X.shape[0]):\n",
        "    current_point = 3*current_point % 1      # update x and store the value in X\n",
        "    points_to_save[i] = current_point\n",
        "\n",
        "plt.plot(points_to_save, '.')     # plot the values in X"
      ],
      "metadata": {
        "id": "08gnI5G5afa7",
        "colab": {
          "base_uri": "https://localhost:8080/",
          "height": 252
        },
        "outputId": "bd03fa36-6044-42a2-cbda-7972ee019890"
      },
      "execution_count": null,
      "outputs": [
        {
          "output_type": "error",
          "ename": "NameError",
          "evalue": "name 'X' is not defined",
          "traceback": [
            "\u001b[0;31m---------------------------------------------------------------------------\u001b[0m",
            "\u001b[0;31mNameError\u001b[0m                                 Traceback (most recent call last)",
            "\u001b[0;32m<ipython-input-10-fbf0449b16fb>\u001b[0m in \u001b[0;36m<cell line: 4>\u001b[0;34m()\u001b[0m\n\u001b[1;32m      2\u001b[0m \u001b[0mpoints_to_save\u001b[0m \u001b[0;34m=\u001b[0m \u001b[0mnp\u001b[0m\u001b[0;34m.\u001b[0m\u001b[0mzeros\u001b[0m\u001b[0;34m(\u001b[0m\u001b[0;36m50000\u001b[0m\u001b[0;34m,\u001b[0m\u001b[0;34m)\u001b[0m  \u001b[0;31m# initialize an array of zeros\u001b[0m\u001b[0;34m\u001b[0m\u001b[0;34m\u001b[0m\u001b[0m\n\u001b[1;32m      3\u001b[0m \u001b[0;34m\u001b[0m\u001b[0m\n\u001b[0;32m----> 4\u001b[0;31m \u001b[0;32mfor\u001b[0m \u001b[0mi\u001b[0m \u001b[0;32min\u001b[0m \u001b[0mrange\u001b[0m\u001b[0;34m(\u001b[0m\u001b[0mX\u001b[0m\u001b[0;34m.\u001b[0m\u001b[0mshape\u001b[0m\u001b[0;34m[\u001b[0m\u001b[0;36m0\u001b[0m\u001b[0;34m]\u001b[0m\u001b[0;34m)\u001b[0m\u001b[0;34m:\u001b[0m\u001b[0;34m\u001b[0m\u001b[0;34m\u001b[0m\u001b[0m\n\u001b[0m\u001b[1;32m      5\u001b[0m     \u001b[0mcurrent_point\u001b[0m \u001b[0;34m=\u001b[0m \u001b[0;36m3\u001b[0m\u001b[0;34m*\u001b[0m\u001b[0mcurrent_point\u001b[0m \u001b[0;34m%\u001b[0m \u001b[0;36m1\u001b[0m      \u001b[0;31m# update x and store the value in X\u001b[0m\u001b[0;34m\u001b[0m\u001b[0;34m\u001b[0m\u001b[0m\n\u001b[1;32m      6\u001b[0m     \u001b[0mpoints_to_save\u001b[0m\u001b[0;34m[\u001b[0m\u001b[0mi\u001b[0m\u001b[0;34m]\u001b[0m \u001b[0;34m=\u001b[0m \u001b[0mcurrent_point\u001b[0m\u001b[0;34m\u001b[0m\u001b[0;34m\u001b[0m\u001b[0m\n",
            "\u001b[0;31mNameError\u001b[0m: name 'X' is not defined"
          ]
        }
      ]
    },
    {
      "cell_type": "code",
      "source": [
        "plt.hist(points_to_save); #saves certain points"
      ],
      "metadata": {
        "id": "OuAUddY54sxI"
      },
      "execution_count": null,
      "outputs": []
    },
    {
      "cell_type": "code",
      "source": [
        "def coin():\n",
        "    return 2*(np.random.random() > 0.5) - 1"
      ],
      "metadata": {
        "id": "3DKoK_RLfvmu"
      },
      "execution_count": null,
      "outputs": []
    },
    {
      "cell_type": "code",
      "source": [
        "coin()"
      ],
      "metadata": {
        "id": "upVKpqKamKIO"
      },
      "execution_count": null,
      "outputs": []
    },
    {
      "cell_type": "code",
      "source": [
        "x = 0\n",
        "x + coin()"
      ],
      "metadata": {
        "id": "_Tpo3k_Rfvkm"
      },
      "execution_count": null,
      "outputs": []
    },
    {
      "cell_type": "code",
      "source": [
        "x = 0\n",
        "\n",
        "for i in range(3):\n",
        "    x = x + coin()"
      ],
      "metadata": {
        "id": "bQ3khwo8nSC5"
      },
      "execution_count": null,
      "outputs": []
    },
    {
      "cell_type": "code",
      "source": [
        "x"
      ],
      "metadata": {
        "id": "d7ABUR99nT6X"
      },
      "execution_count": null,
      "outputs": []
    },
    {
      "cell_type": "code",
      "source": [
        "x = 0\n",
        "\n",
        "for i in range(100):\n",
        "    x = x + coin()"
      ],
      "metadata": {
        "id": "NFy-Myfefvq5"
      },
      "execution_count": null,
      "outputs": []
    },
    {
      "cell_type": "code",
      "source": [
        "x"
      ],
      "metadata": {
        "id": "sdOlgTxFfvs3"
      },
      "execution_count": null,
      "outputs": []
    },
    {
      "cell_type": "code",
      "source": [
        "M = 10000\n",
        "N = 100\n",
        "\n",
        "X = np.zeros(M,)\n",
        "\n",
        "for j in range(M):\n",
        "\n",
        "    x = 0\n",
        "\n",
        "    for i in range(N):\n",
        "        x = x + coin()\n",
        "\n",
        "    X[j] = x"
      ],
      "metadata": {
        "id": "uLXLzA03gabE"
      },
      "execution_count": null,
      "outputs": []
    },
    {
      "cell_type": "code",
      "source": [
        "plt.hist(X);"
      ],
      "metadata": {
        "id": "twqazgNcgOm1"
      },
      "execution_count": null,
      "outputs": []
    },
    {
      "cell_type": "code",
      "source": [],
      "metadata": {
        "id": "gulMHCqUgOtK"
      },
      "execution_count": null,
      "outputs": []
    },
    {
      "cell_type": "markdown",
      "source": [
        "# Bonus: Explain Pascal's Triangle"
      ],
      "metadata": {
        "id": "SJ_lgmvntUhi"
      }
    },
    {
      "cell_type": "code",
      "source": [
        "P = np.zeros((12,18))\n",
        "\n",
        "P[0,5]=1\n",
        "\n",
        "for i in range(1,P.shape[0]):\n",
        "\n",
        "    for j in range(1,P.shape[1]-1):\n",
        "\n",
        "        P[i,j] = P[i-1,j-1]+P[i-1,j]\n",
        "\n",
        "print(P[:,5:])"
      ],
      "metadata": {
        "id": "ksVd5iqgfvu-"
      },
      "execution_count": null,
      "outputs": []
    },
    {
      "cell_type": "markdown",
      "source": [
        "# Normal Distribution"
      ],
      "metadata": {
        "id": "JECEsNBSdE6H"
      }
    },
    {
      "cell_type": "code",
      "source": [
        "# Define the parameters for the normal distribution\n",
        "mean = 0  # Mean (mu) of the distribution\n",
        "std_dev = 0.1  # Standard deviation (sigma) of the distribution\n",
        "\n",
        "# Generate 1000 data points following a normal distribution with the specified mean and standard deviation\n",
        "sample_size = 10000\n",
        "data_points = np.random.normal(mean, std_dev, sample_size)\n",
        "\n",
        "# Plot the histogram of the data points\n",
        "bins_number = 30  # Number of bins for the histogram\n",
        "hist_count, x, ignored = plt.hist(data_points, bins_number, density=True)\n"
      ],
      "metadata": {
        "id": "ICFhNGpBzw7o"
      },
      "execution_count": null,
      "outputs": []
    },
    {
      "cell_type": "code",
      "source": [
        "x = np.linspace(-15,15,1000)\n",
        "\n",
        "y = np.exp(-x**2)"
      ],
      "metadata": {
        "id": "Q_3xJvJOI0EN"
      },
      "execution_count": null,
      "outputs": []
    },
    {
      "cell_type": "code",
      "source": [
        "plt.plot(x,y)"
      ],
      "metadata": {
        "id": "FCNvnmH5I3Vk"
      },
      "execution_count": null,
      "outputs": []
    },
    {
      "cell_type": "code",
      "source": [
        "y2 = np.sin(10*x)"
      ],
      "metadata": {
        "id": "WY18sHPrI3eg"
      },
      "execution_count": null,
      "outputs": []
    },
    {
      "cell_type": "code",
      "source": [
        "plt.plot(x,y2)"
      ],
      "metadata": {
        "id": "Fu4wRXyNJkaH"
      },
      "execution_count": null,
      "outputs": []
    },
    {
      "cell_type": "code",
      "source": [
        "plt.plot(x,y*y2)"
      ],
      "metadata": {
        "id": "OqY9KBsJJ0jz"
      },
      "execution_count": null,
      "outputs": []
    },
    {
      "cell_type": "code",
      "source": [
        "y3 =  np.exp(- (x - 0) ** 2 )\n",
        "plt.plot(x, y3, linewidth=2, color='r')"
      ],
      "metadata": {
        "id": "THiUcNEWKGZO"
      },
      "execution_count": null,
      "outputs": []
    },
    {
      "cell_type": "code",
      "source": [
        "# Define the parameters for the normal distribution\n",
        "mean = 0  # Mean (mu) of the distribution\n",
        "std_dev = 0.1  # Standard deviation (sigma) of the distribution\n",
        "\n",
        "# Generate 1000 data points following a normal distribution with the specified mean and standard deviation\n",
        "sample_size = 10000\n",
        "data_points = np.random.normal(mean, std_dev, sample_size)\n",
        "\n",
        "# Plot the histogram of the data points\n",
        "bins_number = 30  # Number of bins for the histogram\n",
        "hist_count, x, ignored = plt.hist(data_points, bins_number, density=True)\n",
        "\n",
        "# Plot the probability density function of the normal distribution\n",
        "normal_dist_curve = 1 / (std_dev * np.sqrt(2 * np.pi)) * np.exp(- (x - mean) ** 2 / (2 * std_dev ** 2))\n",
        "plt.plot(x, normal_dist_curve, linewidth=2, color='r')\n",
        "\n",
        "# Set the title and labels for the plot\n",
        "plt.title('Normal Distribution Visualization')\n",
        "plt.xlabel('Value')\n",
        "plt.ylabel('Probability Density')\n",
        "\n",
        "# Display the plot\n",
        "plt.show()"
      ],
      "metadata": {
        "id": "TtbUqKxtIuwu"
      },
      "execution_count": null,
      "outputs": []
    },
    {
      "cell_type": "code",
      "source": [],
      "metadata": {
        "id": "g_EUq8ozJzuS"
      },
      "execution_count": null,
      "outputs": []
    },
    {
      "cell_type": "code",
      "source": [
        "x = np.array([1,2,3,4])"
      ],
      "metadata": {
        "id": "mG_A0OrJ3rQ-"
      },
      "execution_count": null,
      "outputs": []
    },
    {
      "cell_type": "code",
      "source": [
        "np.sum(x)"
      ],
      "metadata": {
        "id": "Z7v94-3gmori"
      },
      "execution_count": null,
      "outputs": []
    },
    {
      "cell_type": "code",
      "source": [
        "x.shape[0]"
      ],
      "metadata": {
        "id": "zFPHJGc3mtyq"
      },
      "execution_count": null,
      "outputs": []
    },
    {
      "cell_type": "code",
      "source": [
        "np.sum(x)/x.shape[0]"
      ],
      "metadata": {
        "id": "LqvpO7h5m4kK"
      },
      "execution_count": null,
      "outputs": []
    },
    {
      "cell_type": "code",
      "source": [
        "def mean(x):\n",
        "    return np.sum(x)/x.shape[0]"
      ],
      "metadata": {
        "id": "2sNU3WHzKL-K"
      },
      "execution_count": null,
      "outputs": []
    },
    {
      "cell_type": "code",
      "source": [
        "mean(x) #gives the mean"
      ],
      "metadata": {
        "id": "C1spWylQnQaB"
      },
      "execution_count": null,
      "outputs": []
    },
    {
      "cell_type": "code",
      "source": [
        "x"
      ],
      "metadata": {
        "id": "tjB9DaqgnSjp"
      },
      "execution_count": null,
      "outputs": []
    },
    {
      "cell_type": "code",
      "source": [
        "x - mean(x)"
      ],
      "metadata": {
        "id": "JtcgP798nTn7"
      },
      "execution_count": null,
      "outputs": []
    },
    {
      "cell_type": "code",
      "source": [
        "(x - mean(x))**2"
      ],
      "metadata": {
        "id": "bPxdJZO8noQZ"
      },
      "execution_count": null,
      "outputs": []
    },
    {
      "cell_type": "code",
      "source": [
        " def var(x):\n",
        "    return mean((x - mean(x))**2)"
      ],
      "metadata": {
        "id": "AFiWPynDKL-K"
      },
      "execution_count": null,
      "outputs": []
    },
    {
      "cell_type": "code",
      "source": [
        "def std(x):\n",
        "    return np.sqrt(var(x))"
      ],
      "metadata": {
        "id": "qgYexg70KL-K"
      },
      "execution_count": null,
      "outputs": []
    },
    {
      "cell_type": "code",
      "source": [
        "mean(x)"
      ],
      "metadata": {
        "id": "RWRhGNozKL-K"
      },
      "execution_count": null,
      "outputs": []
    },
    {
      "cell_type": "code",
      "source": [
        "var(x)"
      ],
      "metadata": {
        "id": "qE62mTdl42M8"
      },
      "execution_count": null,
      "outputs": []
    },
    {
      "cell_type": "code",
      "source": [
        "std(x)"
      ],
      "metadata": {
        "id": "GNgkLkMWKL-K"
      },
      "execution_count": null,
      "outputs": []
    },
    {
      "cell_type": "code",
      "source": [],
      "metadata": {
        "id": "mdaH_hwUKNxJ"
      },
      "execution_count": null,
      "outputs": []
    },
    {
      "cell_type": "markdown",
      "source": [
        "### Uniform Random Numbers"
      ],
      "metadata": {
        "id": "6GjEVk4y2AYF"
      }
    },
    {
      "cell_type": "code",
      "source": [
        "X = np.random.random(500000,) #random number finder"
      ],
      "metadata": {
        "id": "IJ1jsvY73zgS"
      },
      "execution_count": null,
      "outputs": []
    },
    {
      "cell_type": "code",
      "source": [
        "X"
      ],
      "metadata": {
        "id": "Z8JUEGBXmtyy"
      },
      "execution_count": null,
      "outputs": []
    },
    {
      "cell_type": "code",
      "source": [
        "plt.hist(X,100);"
      ],
      "metadata": {
        "id": "U-yEFDkP1oqM"
      },
      "execution_count": null,
      "outputs": []
    },
    {
      "cell_type": "code",
      "source": [
        "np.random.random()"
      ],
      "metadata": {
        "id": "fMCyKfmP2Mv_"
      },
      "execution_count": null,
      "outputs": []
    },
    {
      "cell_type": "code",
      "source": [
        "r = np.random.random()"
      ],
      "metadata": {
        "id": "KQouRNY_2M9g"
      },
      "execution_count": null,
      "outputs": []
    },
    {
      "cell_type": "code",
      "source": [
        "r"
      ],
      "metadata": {
        "id": "rkZJ6RZf2M_x"
      },
      "execution_count": null,
      "outputs": []
    },
    {
      "cell_type": "code",
      "source": [
        "r = np.random.randint(1,10)"
      ],
      "metadata": {
        "id": "iaLlvCkO2NCE"
      },
      "execution_count": null,
      "outputs": []
    },
    {
      "cell_type": "code",
      "source": [
        "r"
      ],
      "metadata": {
        "id": "lj0rWfIX2NFX"
      },
      "execution_count": null,
      "outputs": []
    },
    {
      "cell_type": "code",
      "source": [
        "np.random.randn()"
      ],
      "metadata": {
        "id": "lNOGrVQsoRMs"
      },
      "execution_count": null,
      "outputs": []
    },
    {
      "cell_type": "code",
      "source": [
        "numbers  = np.random.randn(2,4)"
      ],
      "metadata": {
        "id": "fi-udir-oRTk"
      },
      "execution_count": null,
      "outputs": []
    },
    {
      "cell_type": "code",
      "source": [
        "numbers.shape"
      ],
      "metadata": {
        "id": "wHougo44oRVj"
      },
      "execution_count": null,
      "outputs": []
    },
    {
      "cell_type": "code",
      "source": [
        "numbers = numbers.reshape(-1)"
      ],
      "metadata": {
        "id": "RXBmreGdoRXr"
      },
      "execution_count": null,
      "outputs": []
    },
    {
      "cell_type": "code",
      "source": [
        "numbers.shape"
      ],
      "metadata": {
        "id": "Z8iRPTeMoRZq"
      },
      "execution_count": null,
      "outputs": []
    },
    {
      "cell_type": "code",
      "source": [
        "numbers= np.array([1,2,2,3,3,3,4,4,4,4])"
      ],
      "metadata": {
        "id": "t5ZSXjCUpGj9"
      },
      "execution_count": null,
      "outputs": []
    },
    {
      "cell_type": "code",
      "source": [
        "plt.hist(numbers,100);"
      ],
      "metadata": {
        "id": "a9UEoDrB0MUu"
      },
      "execution_count": null,
      "outputs": []
    },
    {
      "cell_type": "code",
      "source": [
        "numbers = np.random.randn(100000,)\n",
        "plt.hist(numbers,100);"
      ],
      "metadata": {
        "id": "gMJBcwGxpliE"
      },
      "execution_count": null,
      "outputs": []
    },
    {
      "cell_type": "code",
      "source": [
        "numbers = np.random.rand(1000000,)\n",
        "plt.hist(numbers,100);"
      ],
      "metadata": {
        "id": "fkvvUwGJozkT"
      },
      "execution_count": null,
      "outputs": []
    },
    {
      "cell_type": "code",
      "source": [
        "np.random.seed(12345)\n",
        "data = np.random.randn(2, 100)\n",
        "\n",
        "plt.figure(1, figsize=(9, 9))\n",
        "\n",
        "plt.subplot(2,2,1)\n",
        "plt.hist(data[0])\n",
        "\n",
        "plt.subplot(2,2,2)\n",
        "plt.scatter(data[0], data[1])\n",
        "\n",
        "plt.subplot(2,2,3)\n",
        "plt.plot(data[0], data[1],'-')\n",
        "\n",
        "plt.subplot(2,2,4)\n",
        "plt.hist2d(data[0], data[1])\n",
        "\n",
        "plt.show()"
      ],
      "metadata": {
        "id": "YDnLWblCDKzI"
      },
      "execution_count": null,
      "outputs": []
    },
    {
      "cell_type": "markdown",
      "source": [
        "Normal Dist Data"
      ],
      "metadata": {
        "id": "7_JnWdew9Wyi"
      }
    },
    {
      "cell_type": "code",
      "source": [
        "x = 10*np.random.randn(10000)"
      ],
      "metadata": {
        "id": "pRP83kTSoZUq"
      },
      "execution_count": null,
      "outputs": []
    },
    {
      "cell_type": "code",
      "source": [
        "plt.hist(x);"
      ],
      "metadata": {
        "id": "NfYpF_mKoZWy"
      },
      "execution_count": null,
      "outputs": []
    },
    {
      "cell_type": "code",
      "source": [
        "x = np.random.rand(1000,)"
      ],
      "metadata": {
        "id": "Y30IozL4o8at"
      },
      "execution_count": null,
      "outputs": []
    },
    {
      "cell_type": "code",
      "source": [
        "plt.hist(x);"
      ],
      "metadata": {
        "id": "tkOhATLqo8dZ"
      },
      "execution_count": null,
      "outputs": []
    },
    {
      "cell_type": "code",
      "source": [],
      "metadata": {
        "id": "8hX2HTRpoZat"
      },
      "execution_count": null,
      "outputs": []
    },
    {
      "cell_type": "code",
      "source": [
        "mu = 0  # mean of distribution\n",
        "sigma = 1  # standard deviation of distribution\n",
        "x = mu + sigma * np.random.randn(10000)"
      ],
      "metadata": {
        "id": "uH9ty1AoDLjz"
      },
      "execution_count": null,
      "outputs": []
    },
    {
      "cell_type": "code",
      "source": [
        "n,bins,patches = plt.hist(x,bins=100)"
      ],
      "metadata": {
        "id": "4ePb80fFBvGK"
      },
      "execution_count": null,
      "outputs": []
    },
    {
      "cell_type": "code",
      "source": [
        "bins"
      ],
      "metadata": {
        "id": "e65kj687Cmki"
      },
      "execution_count": null,
      "outputs": []
    },
    {
      "cell_type": "code",
      "source": [
        "y = ((1 / (np.sqrt(2 * np.pi) * sigma)) * np.exp(-0.5 * (1 / sigma * (bins - mu))**2))\n",
        "plt.plot(y)"
      ],
      "metadata": {
        "id": "pSvHkNxKBtV0"
      },
      "execution_count": null,
      "outputs": []
    },
    {
      "cell_type": "code",
      "source": [
        "num_bins = 50\n",
        "n,bins,patches = plt.hist(x, num_bins, density=1)\n",
        "y = ((1 / (np.sqrt(2 * np.pi) * sigma)) * np.exp(-0.5 * (1 / sigma * (bins - mu))**2))\n",
        "plt.plot(bins,y)"
      ],
      "metadata": {
        "id": "7aAvYtf6CqQ8"
      },
      "execution_count": null,
      "outputs": []
    },
    {
      "cell_type": "code",
      "source": [],
      "metadata": {
        "id": "YF6QrrWEDSWz"
      },
      "execution_count": null,
      "outputs": []
    },
    {
      "cell_type": "code",
      "source": [
        "x"
      ],
      "metadata": {
        "id": "5wpz-PiBDSfl"
      },
      "execution_count": null,
      "outputs": []
    },
    {
      "cell_type": "code",
      "source": [
        "def mean(x):\n",
        "    return np.sum(x)/x.shape[0]"
      ],
      "metadata": {
        "id": "8YGwI2mN4Osx"
      },
      "execution_count": null,
      "outputs": []
    },
    {
      "cell_type": "code",
      "source": [
        "def var(x):\n",
        "    return mean((x - mean(x))**2)"
      ],
      "metadata": {
        "id": "fKKUt5Qh4O2j"
      },
      "execution_count": null,
      "outputs": []
    },
    {
      "cell_type": "code",
      "source": [
        "def std(x):\n",
        "    return np.sqrt(var(x))"
      ],
      "metadata": {
        "id": "XIVE-C_m5AfO"
      },
      "execution_count": null,
      "outputs": []
    },
    {
      "cell_type": "code",
      "source": [
        "def median(x):\n",
        "    n = len(x)\n",
        "    sorted_x = np.sort(x)\n",
        "    mid = n // 2\n",
        "    if n % 2 == 0:\n",
        "        return (sorted_x[mid - 1] + sorted_x[mid]) / 2\n",
        "    else:\n",
        "        return sorted_x[mid]"
      ],
      "metadata": {
        "id": "71JWahMOJ_vW"
      },
      "execution_count": null,
      "outputs": []
    },
    {
      "cell_type": "code",
      "source": [
        "def mode(x):\n",
        "    values, counts = np.unique(x, return_counts=True)\n",
        "    max_count_index = np.argmax(counts)\n",
        "    return values[max_count_index]"
      ],
      "metadata": {
        "id": "azXASE2618PD"
      },
      "execution_count": null,
      "outputs": []
    },
    {
      "cell_type": "code",
      "source": [
        "def range(x):\n",
        "    return np.max(x) - np.min(x)"
      ],
      "metadata": {
        "id": "u_ZfhbEF18RT"
      },
      "execution_count": null,
      "outputs": []
    },
    {
      "cell_type": "code",
      "source": [
        "data = np.array([1, 2, 2, 3, 4, 5, 5, 5, 6])\n",
        "\n",
        "# Testing the functions\n",
        "mean_value = mean(data)\n",
        "var_value = var(data)\n",
        "std_value = std(data)\n",
        "median_value = median(data)\n",
        "mode_value = mode(data)\n",
        "range_value = range(data)\n",
        "\n",
        "mean_value, var_value, std_value, median_value, mode_value, range_value\n"
      ],
      "metadata": {
        "id": "l7rCOIckeSUl"
      },
      "execution_count": null,
      "outputs": []
    },
    {
      "cell_type": "code",
      "source": [],
      "metadata": {
        "id": "LlB2RepLeSWt"
      },
      "execution_count": null,
      "outputs": []
    },
    {
      "cell_type": "markdown",
      "source": [
        "# Homework\n",
        "\n",
        "\n"
      ],
      "metadata": {
        "id": "DKC30jgXCoq4"
      }
    },
    {
      "cell_type": "code",
      "source": [],
      "metadata": {
        "id": "e45fx2GtfTha"
      },
      "execution_count": null,
      "outputs": []
    },
    {
      "cell_type": "markdown",
      "source": [
        "# Pi from Random Numbers"
      ],
      "metadata": {
        "id": "Af7xkpiyfXaq"
      }
    },
    {
      "cell_type": "code",
      "source": [
        "N = 10"
      ],
      "metadata": {
        "id": "MET-fPi1Ktga"
      },
      "execution_count": null,
      "outputs": []
    },
    {
      "cell_type": "code",
      "source": [
        "points = -1 + 2*np.random.random((N,2))"
      ],
      "metadata": {
        "id": "u2MgAHbqIY2R"
      },
      "execution_count": null,
      "outputs": []
    },
    {
      "cell_type": "code",
      "source": [
        "points"
      ],
      "metadata": {
        "id": "M_yPimZGQ8jL"
      },
      "execution_count": null,
      "outputs": []
    },
    {
      "cell_type": "code",
      "source": [
        "plt.plot(points[:,0],points[:,1],'.')\n",
        "\n",
        "plt.gca().set_aspect(1)"
      ],
      "metadata": {
        "id": "bRC-i_tzIdf_"
      },
      "execution_count": null,
      "outputs": []
    },
    {
      "cell_type": "code",
      "source": [
        "inside_circle  = points[:,0]**2 + points[:,1]**2  <=  1\n",
        "outside_circle = points[:,0]**2 + points[:,1]**2  > 1\n",
        "\n",
        "plt.plot(points[inside_circle,0],points[inside_circle,1],'g.')\n",
        "plt.plot(points[outside_circle,0],points[outside_circle,1],'r.')\n",
        "\n",
        "\n",
        "plt.gca().set_aspect(1)"
      ],
      "metadata": {
        "id": "_zSajoEBIfpV"
      },
      "execution_count": null,
      "outputs": []
    },
    {
      "cell_type": "code",
      "source": [
        "np.sum(inside_circle),np.sum(outside_circle)"
      ],
      "metadata": {
        "id": "uvocX0UBI3za"
      },
      "execution_count": null,
      "outputs": []
    },
    {
      "cell_type": "code",
      "source": [
        "total_area = 4"
      ],
      "metadata": {
        "id": "bAaINgLcJKwr"
      },
      "execution_count": null,
      "outputs": []
    },
    {
      "cell_type": "code",
      "source": [
        "fraction_inside = np.sum(inside_circle)/N"
      ],
      "metadata": {
        "id": "D5Y0D9ECJdJa"
      },
      "execution_count": null,
      "outputs": []
    },
    {
      "cell_type": "code",
      "source": [
        "fraction_inside*total_area"
      ],
      "metadata": {
        "id": "GMV36iFvKyDZ"
      },
      "execution_count": null,
      "outputs": []
    },
    {
      "cell_type": "code",
      "source": [
        "N = 100000000\n",
        "points = -1 + 2*np.random.random((N,2))\n",
        "inside_circle  = points[:,0]**2 + points[:,1]**2  <=  1\n",
        "fraction_inside = np.sum(inside_circle)/N\n",
        "fraction_inside*4"
      ],
      "metadata": {
        "id": "xn9w8JNyozxH"
      },
      "execution_count": null,
      "outputs": []
    },
    {
      "cell_type": "markdown",
      "source": [
        "# Complete Code for Estimating π using Monte Carlo Simulation"
      ],
      "metadata": {
        "id": "pMIgY4L0qfmN"
      }
    },
    {
      "cell_type": "code",
      "source": [
        "# Number of random points to generate\n",
        "num_points = 10000\n",
        "\n",
        "# Generating random points\n",
        "x_points = np.random.uniform(-1, 1, num_points)\n",
        "y_points = np.random.uniform(-1, 1, num_points)\n",
        "\n",
        "# Calculating the number of points inside the quarter circle\n",
        "points_inside = np.sqrt(x_points**2 + y_points**2) <= 1\n",
        "num_inside = np.sum(points_inside)\n",
        "\n",
        "# Estimating π\n",
        "pi_estimate = 4 * num_inside / num_points\n",
        "\n",
        "# Plotting the points and the quarter circle\n",
        "plt.figure(figsize=(6, 6))\n",
        "plt.scatter(x_points[points_inside], y_points[points_inside], color='green', label='Inside')\n",
        "plt.scatter(x_points[~points_inside], y_points[~points_inside], color='red', label='Outside')\n",
        "circle = plt.Circle((0, 0), 1, color='blue', fill=False)\n",
        "plt.gca().add_artist(circle)\n",
        "plt.title('Estimating π using Monte Carlo Simulation')\n",
        "plt.xlabel('x')\n",
        "plt.ylabel('y')\n",
        "plt.legend()\n",
        "plt.axis('equal')\n",
        "plt.show()\n",
        "\n",
        "pi_estimate"
      ],
      "metadata": {
        "id": "ALXV0rDMo_zy"
      },
      "execution_count": null,
      "outputs": []
    },
    {
      "cell_type": "code",
      "source": [],
      "metadata": {
        "id": "pcP2TiL8-HIQ"
      },
      "execution_count": null,
      "outputs": []
    },
    {
      "cell_type": "markdown",
      "source": [
        "# e from Random Numbers"
      ],
      "metadata": {
        "id": "37pGo6_bfbLb"
      }
    },
    {
      "cell_type": "code",
      "source": [
        "X = np.random.random((1000000,10))"
      ],
      "metadata": {
        "id": "x8QqrnVA-ONK"
      },
      "execution_count": null,
      "outputs": []
    },
    {
      "cell_type": "code",
      "source": [
        "Y = np.cumsum(X,1)"
      ],
      "metadata": {
        "id": "5VHxKb2d-ONM"
      },
      "execution_count": null,
      "outputs": []
    },
    {
      "cell_type": "code",
      "source": [
        "Z = np.argmax(Y > 1,1) + 1"
      ],
      "metadata": {
        "id": "AgfYG9Tx-ONT",
        "colab": {
          "base_uri": "https://localhost:8080/",
          "height": 180
        },
        "outputId": "56ddddc1-ed51-45f8-cd64-a2b5ae915066"
      },
      "execution_count": null,
      "outputs": [
        {
          "output_type": "error",
          "ename": "NameError",
          "evalue": "name 'Y' is not defined",
          "traceback": [
            "\u001b[0;31m---------------------------------------------------------------------------\u001b[0m",
            "\u001b[0;31mNameError\u001b[0m                                 Traceback (most recent call last)",
            "\u001b[0;32m<ipython-input-11-5a09bf348260>\u001b[0m in \u001b[0;36m<cell line: 1>\u001b[0;34m()\u001b[0m\n\u001b[0;32m----> 1\u001b[0;31m \u001b[0mZ\u001b[0m \u001b[0;34m=\u001b[0m \u001b[0mnp\u001b[0m\u001b[0;34m.\u001b[0m\u001b[0margmax\u001b[0m\u001b[0;34m(\u001b[0m\u001b[0mY\u001b[0m \u001b[0;34m>\u001b[0m \u001b[0;36m1\u001b[0m\u001b[0;34m,\u001b[0m\u001b[0;36m1\u001b[0m\u001b[0;34m)\u001b[0m \u001b[0;34m+\u001b[0m \u001b[0;36m1\u001b[0m\u001b[0;34m\u001b[0m\u001b[0;34m\u001b[0m\u001b[0m\n\u001b[0m",
            "\u001b[0;31mNameError\u001b[0m: name 'Y' is not defined"
          ]
        }
      ]
    },
    {
      "cell_type": "code",
      "source": [
        "np.mean(Z)"
      ],
      "metadata": {
        "id": "2f9RwpH2-ONV"
      },
      "execution_count": null,
      "outputs": []
    },
    {
      "cell_type": "code",
      "source": [
        "np.mean(np.argmax(np.cumsum(np.random.random((10000000,10)),1) > 1,1) + 1)"
      ],
      "metadata": {
        "id": "U2HKBsGw-iJl"
      },
      "execution_count": null,
      "outputs": []
    },
    {
      "cell_type": "code",
      "source": [
        "np.exp(1)"
      ],
      "metadata": {
        "id": "OQZME884-R2T"
      },
      "execution_count": null,
      "outputs": []
    },
    {
      "cell_type": "markdown",
      "source": [
        "# Further Reading:\n",
        "\n",
        "### Quantum Random Numbers API\n",
        "\n",
        "https://aws.amazon.com/marketplace/pp/prodview-246kyrfjo3bag"
      ],
      "metadata": {
        "id": "O4Ot-i0T2rqU"
      }
    }
  ]
}